{
 "cells": [
  {
   "cell_type": "markdown",
   "metadata": {},
   "source": [
    "# Task#"
   ]
  },
  {
   "cell_type": "markdown",
   "metadata": {},
   "source": [
    "I will be completing a task on creating and manipulating arrays. As well as analysing the data stored within the arrays. I will also be using numpy, which contains many mathematical functions that can be used to analyse the data stored in arrays. Examples of functions include sum, mean, sine, etc. I will also be using array slicing to reference a smaller subset of the original array, this can be useful for analysing very specific parts of an array."
   ]
  },
  {
   "cell_type": "markdown",
   "metadata": {},
   "source": [
    "# Part 1 #"
   ]
  },
  {
   "cell_type": "code",
   "execution_count": 1,
   "metadata": {
    "collapsed": true
   },
   "outputs": [],
   "source": [
    "import numpy as np #This imports the functions of numpy and it is shortened to np for ease of use"
   ]
  },
  {
   "cell_type": "code",
   "execution_count": 2,
   "metadata": {},
   "outputs": [
    {
     "name": "stdout",
     "output_type": "stream",
     "text": [
      "[ 0  5 10]\n"
     ]
    }
   ],
   "source": [
    "print(np.array([0,5,10]))"
   ]
  },
  {
   "cell_type": "code",
   "execution_count": 3,
   "metadata": {},
   "outputs": [
    {
     "name": "stdout",
     "output_type": "stream",
     "text": [
      "[ 0  5 10]\n"
     ]
    }
   ],
   "source": [
    "print(np.arange(0,11,5)) #Creates an array starting at 0, ending at 10 with a gap of 5"
   ]
  },
  {
   "cell_type": "code",
   "execution_count": 4,
   "metadata": {},
   "outputs": [
    {
     "name": "stdout",
     "output_type": "stream",
     "text": [
      "[ 2.5  3.   3.5]\n"
     ]
    }
   ],
   "source": [
    "print(np.linspace(2.5,3.5,3)) #Creates an array starting at 2.5, ending at 3.5 with 3 evenly spaced values"
   ]
  },
  {
   "cell_type": "code",
   "execution_count": 5,
   "metadata": {},
   "outputs": [
    {
     "name": "stdout",
     "output_type": "stream",
     "text": [
      "[  0.  15.  35.]\n"
     ]
    }
   ],
   "source": [
    "array_a = np.arange(0,11,5)\n",
    "array_b = np.linspace(2.5,3.5,3)\n",
    "array_c = array_a * array_b   #Multiplies the previously created arrays that are assigned to \"array_a\" and \"array_b\"\n",
    "print(array_c)"
   ]
  },
  {
   "cell_type": "markdown",
   "metadata": {},
   "source": [
    "# Difference Between Cross/Dot Product and * Operator #"
   ]
  },
  {
   "cell_type": "code",
   "execution_count": 6,
   "metadata": {},
   "outputs": [
    {
     "name": "stdout",
     "output_type": "stream",
     "text": [
      "50.0\n"
     ]
    }
   ],
   "source": [
    "print(np.dot(array_a,array_b)) #Calculates the dot product of \"array_a\" and \"array_b\""
   ]
  },
  {
   "cell_type": "code",
   "execution_count": 7,
   "metadata": {},
   "outputs": [
    {
     "name": "stdout",
     "output_type": "stream",
     "text": [
      "[-12.5  25.  -12.5]\n"
     ]
    }
   ],
   "source": [
    "print(np.cross(array_a,array_b)) #Calculates the cross product of \"array_a\" and \"array_b\""
   ]
  },
  {
   "cell_type": "raw",
   "metadata": {},
   "source": [
    "The previous 2 lines of code used the cross and dot products as opposed to the * function. The dot product multiplies each element of an array with the corresponding element on the other array. Then the products of the elements are added together. The dot product of 2 arrays always produces a scalar value, such as the result above. The cross product however, produces an array. The cross product is obtained by calculating the determinant of the 2 arrays. The * operator is very similar to the dot product, except it does not add together the results of multiplying each element, instead it forms an array in which each element consists of the product of corresponding elements on the initial arrays."
   ]
  },
  {
   "cell_type": "markdown",
   "metadata": {},
   "source": [
    "# Explanation of 'For' Loop #"
   ]
  },
  {
   "cell_type": "code",
   "execution_count": 8,
   "metadata": {},
   "outputs": [
    {
     "name": "stdout",
     "output_type": "stream",
     "text": [
      "[ 1.     1.375  1.75   2.125  2.5  ]\n",
      "n is  1.0\n",
      "n*3 is  3.0\n",
      "n is  1.375\n",
      "n*3 is  4.125\n",
      "n is  1.75\n",
      "n*3 is  5.25\n",
      "n is  2.125\n",
      "n*3 is  6.375\n",
      "n is  2.5\n",
      "n*3 is  7.5\n",
      "Finished\n"
     ]
    }
   ],
   "source": [
    "r = np.linspace(1, 2.5, 5) #This creates an array starting at 1 and finishing at 2.5, with 5 values between 1 and 2.5 \n",
    "print(r)                   #This prints the array that was created\n",
    "for n in r:                #This picks, in order, each element in the array\n",
    "    print(\"n is \", n)\n",
    "    print(\"n*3 is \", n*3)  #For loop repeated after completing this line of code, as long as there are remaining elements\n",
    "print(\"Finished\")          #Last line of code run after For loop has finished with last element"
   ]
  },
  {
   "cell_type": "markdown",
   "metadata": {},
   "source": [
    "The first line, as explained by a comment, creates the array starting at 1 and ending at 2.5. The array is populated with 5 values, which are equally spaced between 1 and 2.5. The next line prints the array, which can be seen above. The line after that picks each element in order from the array that was created and then the value of the element is printed in the form \"n is x\" where x is the value of the element. The next line of code prints the value of the element multiplied by 3. Once these 2 tasks are completed for an element, the process repeats itself for the next element, until there are no more elements left. Once there are no more elements left, \"Finished\" is printed as shown above."
   ]
  },
  {
   "cell_type": "markdown",
   "metadata": {},
   "source": [
    "# Part 2 #"
   ]
  },
  {
   "cell_type": "code",
   "execution_count": 9,
   "metadata": {},
   "outputs": [
    {
     "name": "stdout",
     "output_type": "stream",
     "text": [
      "[ 18.02  18.55  18.94  18.99  19.5   19.71  19.61  19.4   19.41  19.26\n",
      "  18.88  18.71  18.42  17.84  17.01  16.86  16.27  15.58  15.25  15.04\n",
      "  25.68  24.62  23.4   21.96  20.65]\n"
     ]
    }
   ],
   "source": [
    "array_d = np.loadtxt(\"session3data.txt\") #This loads a text file containing values as an array\n",
    "print(array_d)                           #This prints the imported array"
   ]
  },
  {
   "cell_type": "markdown",
   "metadata": {},
   "source": [
    "# Manipulating An Array #"
   ]
  },
  {
   "cell_type": "code",
   "execution_count": 10,
   "metadata": {},
   "outputs": [
    {
     "name": "stdout",
     "output_type": "stream",
     "text": [
      "[-0.7376316  -0.29509593  0.09032082  0.13998283  0.60553987  0.75813222\n",
      "  0.68924326  0.52306577  0.53156239  0.39901656  0.03043938 -0.13910337\n",
      " -0.41646711 -0.84659557 -0.96410101 -0.91359403 -0.53291073  0.12761433\n",
      "  0.44212217  0.61938827  0.5203483  -0.4905678  -0.98691556  0.03114354\n",
      "  0.97374664]\n"
     ]
    }
   ],
   "source": [
    "print(np.sin(array_d))"
   ]
  },
  {
   "cell_type": "markdown",
   "metadata": {},
   "source": [
    "The function used above finds the sine of each element within the array, treating each of the values of the array in radians. The new array is printed."
   ]
  },
  {
   "cell_type": "code",
   "execution_count": 11,
   "metadata": {},
   "outputs": [
    {
     "name": "stdout",
     "output_type": "stream",
     "text": [
      "25\n"
     ]
    }
   ],
   "source": [
    "print(np.size(array_d))"
   ]
  },
  {
   "cell_type": "markdown",
   "metadata": {},
   "source": [
    "This function works out the size of the array in question. It calculates the number of elements along a given axis in the chosen array. As shown above, there are 25 elements in \"array_d\"."
   ]
  },
  {
   "cell_type": "code",
   "execution_count": 12,
   "metadata": {
    "scrolled": true
   },
   "outputs": [
    {
     "name": "stdout",
     "output_type": "stream",
     "text": [
      "25\n"
     ]
    }
   ],
   "source": [
    "print(len(array_d))"
   ]
  },
  {
   "cell_type": "markdown",
   "metadata": {},
   "source": [
    "The function used above gives the number of items in the specified array."
   ]
  },
  {
   "cell_type": "code",
   "execution_count": 13,
   "metadata": {},
   "outputs": [
    {
     "name": "stdout",
     "output_type": "stream",
     "text": [
      "25.68\n"
     ]
    }
   ],
   "source": [
    "print(np.max(array_d))"
   ]
  },
  {
   "cell_type": "markdown",
   "metadata": {},
   "source": [
    "This function prints the element of the array with the maximum value, in this case it is 25.68."
   ]
  },
  {
   "cell_type": "code",
   "execution_count": 14,
   "metadata": {},
   "outputs": [
    {
     "name": "stdout",
     "output_type": "stream",
     "text": [
      "15.04\n"
     ]
    }
   ],
   "source": [
    "print(np.min(array_d))"
   ]
  },
  {
   "cell_type": "markdown",
   "metadata": {},
   "source": [
    "The function used above prints the element of the array with the minimum value, in this case it is 15.04."
   ]
  },
  {
   "cell_type": "code",
   "execution_count": 15,
   "metadata": {},
   "outputs": [
    {
     "name": "stdout",
     "output_type": "stream",
     "text": [
      "477.56\n"
     ]
    }
   ],
   "source": [
    "print(np.sum(array_d))"
   ]
  },
  {
   "cell_type": "markdown",
   "metadata": {},
   "source": [
    "This function calculates the sum of all of the elements in the array, which was found to be 477.56."
   ]
  },
  {
   "cell_type": "code",
   "execution_count": 16,
   "metadata": {},
   "outputs": [
    {
     "name": "stdout",
     "output_type": "stream",
     "text": [
      "19.1024\n"
     ]
    }
   ],
   "source": [
    "print(np.mean(array_d))"
   ]
  },
  {
   "cell_type": "markdown",
   "metadata": {},
   "source": [
    "This function calculates the mean value of all the elements in the array, by calculating the sum of all the elements and then dividing by how many elements there are."
   ]
  },
  {
   "cell_type": "code",
   "execution_count": 17,
   "metadata": {},
   "outputs": [
    {
     "name": "stdout",
     "output_type": "stream",
     "text": [
      "19.1024\n"
     ]
    }
   ],
   "source": [
    "x = np.sum(array_d)\n",
    "y = len(array_d)\n",
    "print(x/y)"
   ]
  },
  {
   "cell_type": "markdown",
   "metadata": {},
   "source": [
    "The way I calculated the mean was by first finding the sum of all the elements in the array and assigning this number to \"x\", and then finding the number of elements in the array and assigning this number to \"y\". Then I printed the value for \"x\"/\"y\", which is the sum of all the elements divided by the number of elements, this gives the same mean as calculated previously."
   ]
  },
  {
   "cell_type": "markdown",
   "metadata": {},
   "source": [
    "# Array Slicing #"
   ]
  },
  {
   "cell_type": "code",
   "execution_count": 18,
   "metadata": {},
   "outputs": [
    {
     "name": "stdout",
     "output_type": "stream",
     "text": [
      "191.39\n"
     ]
    }
   ],
   "source": [
    "print(np.sum(array_d[:10]))"
   ]
  },
  {
   "cell_type": "markdown",
   "metadata": {},
   "source": [
    "Using array slicing, I was able to reference only the first 10 elements of the array. The numbering in the array starts at 0, not 1, therefore the referenced subset of the array will include everything up to but not including #10. Then I enclosed the code for the sliced array within a sum function to find the sum of the first 10 elements. This value is then printed."
   ]
  },
  {
   "cell_type": "code",
   "execution_count": 19,
   "metadata": {},
   "outputs": [
    {
     "name": "stdout",
     "output_type": "stream",
     "text": [
      "23.262\n"
     ]
    }
   ],
   "source": [
    "a = array_d[20:]\n",
    "b = np.sum(a)\n",
    "c = len(a)\n",
    "print(b/c)"
   ]
  },
  {
   "cell_type": "markdown",
   "metadata": {},
   "source": [
    "The sliced array includes all elements from and including #20 to the end of the array since there are 25 elements in total. This is assigned to \"a\". Then the sum of all the elements in \"a\" (the slice of the original array) is calculated and assigned to \"b\". Then the size of the slice of the array is calculated and assigned to \"c\". Then the mean is calculated by dividing the sum of the last 5 elements (\"b\") by the size of the 5 elements (\"c\"). This value is printed."
   ]
  }
 ],
 "metadata": {
  "kernelspec": {
   "display_name": "Python 3",
   "language": "python",
   "name": "python3"
  },
  "language_info": {
   "codemirror_mode": {
    "name": "ipython",
    "version": 3
   },
   "file_extension": ".py",
   "mimetype": "text/x-python",
   "name": "python",
   "nbconvert_exporter": "python",
   "pygments_lexer": "ipython3",
   "version": "3.6.2"
  }
 },
 "nbformat": 4,
 "nbformat_minor": 2
}
