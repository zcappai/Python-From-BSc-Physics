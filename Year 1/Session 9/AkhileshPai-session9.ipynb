{
 "cells": [
  {
   "cell_type": "markdown",
   "metadata": {},
   "source": [
    "# Modelling Planetary Orbits #\n",
    "In this notebook I will be modelling planetary orbits using Newton's Law of Universal Gravitation. I will specify the initial conditions of the planet (initial position and velocity) and then I will let the system evolve over time, subject to the force between the planet and the star. I will also modify the initial conditions to see how it affects the orbits of the stars.\n",
    "\n",
    "In the code I shall be implementing the previously derived equations below:Our outline algorithm will then look like this:\n",
    "\n",
    "$$\\delta\\mathbf{v} = -G M \\frac{\\mathbf{r}}{|\\mathbf{r}|^3} \\delta t$$to calculate the change in velocity, which can be used to calculate the new velocity,\n",
    "\n",
    "and $$ \\mathbf{r}(t + \\delta t)  = \\mathbf{r}(t) + \\delta \\mathbf{r} $$to calculate the new position of the planet, in which $ \\delta\\mathbf{r} = \\mathbf{v}\\delta\\mathbf{t} $.\n",
    "\n",
    "These equations will be implemented in terms of vectors."
   ]
  },
  {
   "cell_type": "markdown",
   "metadata": {},
   "source": [
    "### Newton's Law of universal gravitation ###\n",
    "Newton's Law of Universal Gravitation states that the gravitational force between any two objects is proportional to their masses, and inversely proportional to the square of the distance between them:\n",
    "\n",
    "$$F = \\frac{G m_1 m_2}{r^2}$$\n",
    "\n",
    "The gravitational constant in this equation is $G = 6.674 \\times 10^{-11}$ N.m$^2$kg$^{-2}$, which shows that gravity is a very weak force.\n",
    "\n",
    "If there are 2 masses $m_1$ and $m_2$, the gravitational force exerted on $m_1$ due to $m_2$ will be\n",
    "\n",
    "$$ F_1 = \\frac{G m_1 m_2}{r^2} $$\n",
    "\n",
    "where $ r $ is the dstance between $m_2$ and $m_1$,\n",
    "\n",
    "Similarly, the force exerted on $m_2$ due to $m_1$ will be\n",
    "\n",
    "$$ F_2 = - \\frac{G m_1 m_2}{r^2} $$\n",
    "\n",
    "and $ |F_1| = |F_2| $, hence the forces are equal and opposite, as stated by Newton's Third Law.\n",
    "\n",
    "Due to Newton's Second Law, $ F = ma $, so the accelerations experienced by $m_1$\n",
    "due to $m_2$ and the other way round will be\n",
    "\n",
    "$$ a_1 = \\frac{Gm_2}{r_2^2} $$\n",
    "\n",
    "$$ a_2 = \\frac{Gm_1}{r_1^2} $$ \n",
    "\n",
    "Since the masses of the 2 objects are not the same, they will not experience the same acceleration, in terms of magnitude."
   ]
  },
  {
   "cell_type": "code",
   "execution_count": null,
   "metadata": {},
   "outputs": [
    {
     "data": {
      "application/javascript": [
       "require.undef(\"nbextensions/vpython_libraries/glow.min\");"
      ],
      "text/plain": [
       "<IPython.core.display.Javascript object>"
      ]
     },
     "metadata": {},
     "output_type": "display_data"
    },
    {
     "data": {
      "application/javascript": [
       "require.undef(\"nbextensions/vpython_libraries/glowcomm\");"
      ],
      "text/plain": [
       "<IPython.core.display.Javascript object>"
      ]
     },
     "metadata": {},
     "output_type": "display_data"
    },
    {
     "data": {
      "application/javascript": [
       "require.undef(\"nbextensions/vpython_libraries/jquery-ui.custom.min\");"
      ],
      "text/plain": [
       "<IPython.core.display.Javascript object>"
      ]
     },
     "metadata": {},
     "output_type": "display_data"
    },
    {
     "data": {
      "application/javascript": [
       "require([\"nbextensions/vpython_libraries/glow.min\"], function(){console.log(\"GLOW LOADED\");})"
      ],
      "text/plain": [
       "<IPython.core.display.Javascript object>"
      ]
     },
     "metadata": {},
     "output_type": "display_data"
    },
    {
     "data": {
      "application/javascript": [
       "require([\"nbextensions/vpython_libraries/glowcomm\"], function(){console.log(\"GLOWCOMM LOADED\");})"
      ],
      "text/plain": [
       "<IPython.core.display.Javascript object>"
      ]
     },
     "metadata": {},
     "output_type": "display_data"
    },
    {
     "data": {
      "application/javascript": [
       "require([\"nbextensions/vpython_libraries/jquery-ui.custom.min\"], function(){console.log(\"JQUERY LOADED\");})"
      ],
      "text/plain": [
       "<IPython.core.display.Javascript object>"
      ]
     },
     "metadata": {},
     "output_type": "display_data"
    },
    {
     "data": {
      "text/html": [
       "<div id=\"glowscript\" class=\"glowscript\"></div>"
      ],
      "text/plain": [
       "<IPython.core.display.HTML object>"
      ]
     },
     "metadata": {},
     "output_type": "display_data"
    },
    {
     "data": {
      "application/javascript": [
       "window.__context = { glowscript_container: $(\"#glowscript\").removeAttr(\"id\")}"
      ],
      "text/plain": [
       "<IPython.core.display.Javascript object>"
      ]
     },
     "metadata": {},
     "output_type": "display_data"
    },
    {
     "data": {
      "text/html": [
       "<div id=\"glowscript\" class=\"glowscript\"></div>"
      ],
      "text/plain": [
       "<IPython.core.display.HTML object>"
      ]
     },
     "metadata": {},
     "output_type": "display_data"
    },
    {
     "data": {
      "application/javascript": [
       "window.__context = { glowscript_container: $(\"#glowscript\").removeAttr(\"id\")}"
      ],
      "text/plain": [
       "<IPython.core.display.Javascript object>"
      ]
     },
     "metadata": {},
     "output_type": "display_data"
    }
   ],
   "source": [
    "from vpython import sphere, vector, color, rate, mag, canvas, label # importing fuctions from vpython module\n",
    "\n",
    "canvas(width = 640, height = 480) # slightly bigger than default, adjust if you have small screen.\n",
    "\n",
    "dt = 0.0001      # timestep\n",
    "step = 1       # loop counter\n",
    "maxstep = 200000 # maximum number of steps\n",
    "\n",
    "M = 1000       # mass of star (in units where G = 1)\n",
    "mass = 1       # mass of planet (\")\n",
    "initpos = vector(0,2,0)               # initial position vector of Planet\n",
    "Planet = sphere(pos=initpos,radius=0.05*mass,color=color.blue,make_trail=True) # creating a sphere to represent the planet\n",
    "Planet.trail_color = color.cyan\n",
    "Star = sphere(pos=vector(0,0,0),radius=0.1,color=color.yellow) # creating a sphere to represent the star\n",
    "vel = vector(-21, 0, 0) # initial velocity of Planet\n",
    "label_star = label(text = \"Star\", pos=Star.pos + vector(0, 0.2, 0)) # adds label for star\n",
    "label_planet = label(text = \"Planet\", pos=Planet.pos) # adds label for planet\n",
    "r = initpos # initialising position of planet\n",
    "G = 1 # setting gravitational constant\n",
    "t = 0 # initial value of time\n",
    "\n",
    "while step <= maxstep: # while loop\n",
    "    step = step + 1 #  increases loop counter by 1\n",
    "    rate(150) # rate of animation\n",
    "    t = t + dt\n",
    "    vel = vel - ((G*M*r) / (mag(r)**3)) * dt # calculates the new velocity\n",
    "    r = r + vel*dt\n",
    "    Planet.pos = r # new position of planet on canvas\n",
    "    label_planet.pos = r + vector(0, 0.2 , 0) # puts label on planet as it moves around\n",
    "\n",
    "print(\"end of program\") # to check when the code has stopped running"
   ]
  },
  {
   "cell_type": "markdown",
   "metadata": {},
   "source": [
    "In the code cell above I have modelled an orbit for a planet going around a star. I have changed the timestep to 0.0001 as it provides a much more stable orbit than 0.01, which has jump that make the animation much less smooth. I have also increased the maximum number of steps to 200000 to make the animation go on for longer. I have calculated the small change in velocity, which is used to calculate the new velocity of the planet. This new velocity is then used, with the chosen timestep, to calculate the change in position, which is used to calculate the new position of the planet. The while loop is used to run the program until a certain number of steps has been reached. I have included labels for the planet that will follow the planet as it moves on its orbit. I have also change the starting velocity of the planet in order to get a more circular orbit."
   ]
  },
  {
   "cell_type": "markdown",
   "metadata": {
    "collapsed": true
   },
   "source": [
    "### Challenge 1:  Adding an arrow representing the gravitational force on the planet due to the star ###"
   ]
  },
  {
   "cell_type": "code",
   "execution_count": null,
   "metadata": {},
   "outputs": [
    {
     "data": {
      "text/html": [
       "<div id=\"glowscript\" class=\"glowscript\"></div>"
      ],
      "text/plain": [
       "<IPython.core.display.HTML object>"
      ]
     },
     "metadata": {},
     "output_type": "display_data"
    },
    {
     "data": {
      "application/javascript": [
       "window.__context = { glowscript_container: $(\"#glowscript\").removeAttr(\"id\")}"
      ],
      "text/plain": [
       "<IPython.core.display.Javascript object>"
      ]
     },
     "metadata": {},
     "output_type": "display_data"
    },
    {
     "name": "stdout",
     "output_type": "stream",
     "text": [
      "ERROR! Session/line number was not unique in database. History logging moved to new session 154\n"
     ]
    }
   ],
   "source": [
    "from vpython import sphere, vector, color, rate, mag, canvas, label, arrow # importing fuctions from vpython module\n",
    "\n",
    "canvas(width = 640, height = 480) # slightly bigger than default, adjust if you have small screen.\n",
    "\n",
    "dt = 0.0001      # timestep\n",
    "step = 1       # loop counter\n",
    "maxstep = 200000 # maximum number of steps\n",
    "\n",
    "#  Define the star, planets and constants\n",
    "M = 1000       # mass of star (in units where G = 1)\n",
    "mass = 1       # mass of planet (\")\n",
    "initpos = vector(0,1,0)               # initial position vector of Planet\n",
    "Planet = sphere(pos=initpos,radius=0.05*mass,color=color.blue,make_trail=True) # creating a sphere to represent the planet\n",
    "Planet.trail_color = color.cyan\n",
    "Star = sphere(pos=vector(0,0,0),radius=0.1,color=color.yellow) # creating a sphere to represent the star\n",
    "vel = vector(-25, 0, 0)               # initial velocity of Planet\n",
    "label_star = label(text = \"Star\", pos=Star.pos + vector(0, 0.2, 0))\n",
    "label_planet = label(text = \"Planet\", pos=Planet.pos)\n",
    "r = initpos\n",
    "G = 1\n",
    "t = 0\n",
    "gravity = arrow(pos=Planet.pos, axis = (Star.pos - Planet.pos), shaftwidth= 0.025) # creating arrow showing direction of force\n",
    "arrow_label = label(text='Gravitational Force', pos=Planet.pos/2) # again label banter\n",
    "\n",
    "while step <= maxstep:\n",
    "    step = step + 1\n",
    "    rate(150)\n",
    "    t = t + dt\n",
    "    vel = vel - ((G*M*r) / (mag(r)**3)) * dt\n",
    "    r = r + vel*dt\n",
    "    Planet.pos = r\n",
    "    gravity.pos = Planet.pos # arrow postion\n",
    "    gravity.axis = Star.pos - Planet.pos # direction of arrow\n",
    "    arrow_label.pos = pos=Planet.pos/2\n",
    "    label_planet.pos = r + vector(0, 0.2 , 0)\n",
    "\n",
    "print(\"end of program\")"
   ]
  },
  {
   "cell_type": "markdown",
   "metadata": {},
   "source": [
    "### Challenge 2: Adding a moon orbiting the planet ###"
   ]
  },
  {
   "cell_type": "code",
   "execution_count": null,
   "metadata": {},
   "outputs": [
    {
     "data": {
      "text/html": [
       "<div id=\"glowscript\" class=\"glowscript\"></div>"
      ],
      "text/plain": [
       "<IPython.core.display.HTML object>"
      ]
     },
     "metadata": {},
     "output_type": "display_data"
    },
    {
     "data": {
      "application/javascript": [
       "window.__context = { glowscript_container: $(\"#glowscript\").removeAttr(\"id\")}"
      ],
      "text/plain": [
       "<IPython.core.display.Javascript object>"
      ]
     },
     "metadata": {},
     "output_type": "display_data"
    },
    {
     "name": "stdout",
     "output_type": "stream",
     "text": [
      "ERROR! Session/line number was not unique in database. History logging moved to new session 155\n"
     ]
    }
   ],
   "source": [
    "from vpython import sphere, vector, color, rate, mag, canvas, label, arrow # importing fuctions from vpython module\n",
    "\n",
    "canvas(width = 640, height = 480) # slightly bigger than default, adjust if you have small screen.\n",
    "\n",
    "dt = 0.0001      # timestep\n",
    "step = 1       # loop counter\n",
    "maxstep = 200000 # maximum number of steps\n",
    "\n",
    "#  Define the star, planets and constants\n",
    "M = 1000       # mass of star (in units where G = 1)\n",
    "m1 = 1       # mass of planet (\")\n",
    "m2 =  0.03\n",
    "initposplanet = vector(0,1,0)               # initial position vector of Planet\n",
    "initposmoon = vector(0.2, 1, 0)\n",
    "Planet = sphere(pos=initposplanet,radius=0.05*m1,color=color.blue,make_trail=False) # creating a sphere to represent the planet\n",
    "Moon = sphere(pos=initposmoon,radius=0.01,color=color.red,make_trail=False)\n",
    "Planet.trail_color = color.cyan\n",
    "Star = sphere(pos=vector(0,0,0),radius=0.1,color=color.yellow) # creating a sphere to represent the star\n",
    "v1 = vector(-25, 0, 0) # initial velocity of Planet\n",
    "v2 = vector(-25, 0, 0)\n",
    "label_star = label(text = \"Star\", pos=Star.pos + vector(0, 0.2, 0))\n",
    "label_planet = label(text = \"Planet\", pos=Planet.pos + vector(0, 0.2, 0))\n",
    "label_moon = label(text = \"Moon\", pos=Moon.pos + vector(0, 0.2, 0))\n",
    "r1 = initposplanet\n",
    "r2 = initposmoon\n",
    "G = 1\n",
    "t = 0\n",
    "\n",
    "while step <= maxstep:\n",
    "    dv1 = -(G*dt*((M*r1/(mag(r1)**3))+((m2*(r1-r2))/(mag(r1-r2))**3))) # dv of planet\n",
    "    dr1 = v1*dt # then dr of planet\n",
    "    r1 = r1 + dr1 \n",
    "    Planet.pos = r1\n",
    "    dv2 = -(G*dt*((M*r2/(mag(r2)**3))+((m1*(r2-r1))/(mag(r2-r1))**3))) # dv of moon\n",
    "    dr2 = v2*dt\n",
    "    r2 = r2 + dr2\n",
    "    Moon.pos = r2\n",
    "    v1 = v1 + dv1\n",
    "    v2 = v2 + dv2\n",
    "    rate(150)\n",
    "    label_moon.pos = r2 + vector(0, 0.2 , 0)\n",
    "    label_planet.pos = r1 + vector(0, 0.2 , 0)\n",
    "    step = step + 1\n",
    "\n",
    "print(\"end of program\")"
   ]
  },
  {
   "cell_type": "markdown",
   "metadata": {},
   "source": [
    "### Challenge 3: Adding a 2nd planet that interacts gravitationally with both the first planet and the star ###"
   ]
  },
  {
   "cell_type": "code",
   "execution_count": null,
   "metadata": {},
   "outputs": [
    {
     "data": {
      "text/html": [
       "<div id=\"glowscript\" class=\"glowscript\"></div>"
      ],
      "text/plain": [
       "<IPython.core.display.HTML object>"
      ]
     },
     "metadata": {},
     "output_type": "display_data"
    },
    {
     "data": {
      "application/javascript": [
       "window.__context = { glowscript_container: $(\"#glowscript\").removeAttr(\"id\")}"
      ],
      "text/plain": [
       "<IPython.core.display.Javascript object>"
      ]
     },
     "metadata": {},
     "output_type": "display_data"
    },
    {
     "name": "stdout",
     "output_type": "stream",
     "text": [
      "ERROR! Session/line number was not unique in database. History logging moved to new session 157\n"
     ]
    }
   ],
   "source": [
    "from vpython import sphere, vector, color, rate, mag, canvas, label, arrow # importing fuctions from vpython module\n",
    "\n",
    "canvas(width = 640, height = 480) # slightly bigger than default, adjust if you have small screen.\n",
    "\n",
    "dt = 0.0001      # timestep\n",
    "step = 1       # loop counter\n",
    "maxstep = 200000 # maximum number of steps\n",
    "\n",
    "#  Define the star, planets and constants\n",
    "M = 1000       # mass of star (in units where G = 1)\n",
    "m1 = 1       # mass of planet (\")\n",
    "m2 =  0.03\n",
    "m3 =  0.9\n",
    "initposplanet = vector(0,1,0) # initial position vector of Planet\n",
    "initposmoon = vector(0.2, 1, 0)\n",
    "initposplanet2 = vector(0, -1, 0)\n",
    "Planet = sphere(pos=initposplanet,radius=0.05*m1,color=color.blue,make_trail=True) # creating a sphere to represent the planet\n",
    "Moon = sphere(pos=initposmoon,radius=0.01,color=color.red,make_trail=False)\n",
    "Planet2 = sphere(pos=initposplanet2,radius=0.05*m3,color=color.magenta,make_trail=True)\n",
    "Planet.trail_color = color.cyan # change the trail colour to white, or any colour you fancy\n",
    "Moon.trail_color = color.red\n",
    "Planet2.trail_color = color.magenta\n",
    "Star = sphere(pos=vector(0,0,0),radius=0.1,color=color.yellow) # creating a sphere to represent the star\n",
    "v1 = vector(-25, 0, 0) # initial velocity of Planet\n",
    "v2 = vector(-25, 0, 0)\n",
    "v3 = vector(-21, 0, 0)\n",
    "label_star = label(text = \"Star\", pos=Star.pos + vector(0, 0.2, 0))\n",
    "label_planet = label(text = \"Planet\", pos=Planet.pos + vector(0, 0.2, 0))\n",
    "label_moon = label(text = \"Moon\", pos=Moon.pos + vector(0, 0.2, 0))\n",
    "label_planet2 = label(text = \"Planet 2\", pos=Planet2.pos + vector(0, 0.2, 0))\n",
    "r1 = initposplanet\n",
    "r2 = initposmoon\n",
    "r3 = initposplanet2\n",
    "G = 1\n",
    "t = 0\n",
    "\n",
    "while step <= maxstep:\n",
    "    dv1 = -(G*dt*((M*r1/(mag(r1)**3))+((m2*(r1-r2))/(mag(r1-r2))**3))) # dv of planet\n",
    "    dr1 = v1*dt # then dr of planet\n",
    "    r1 = r1 + dr1 \n",
    "    Planet.pos = r1\n",
    "    dv2 = -(G*dt*((M*r2/(mag(r2)**3))+((m1*(r2-r1))/(mag(r2-r1))**3))) # dv of moon\n",
    "    dr2 = v2*dt\n",
    "    r2 = r2 + dr2\n",
    "    Moon.pos = r2\n",
    "    dv3 = -(G*dt*((M*r3/(mag(r3)**3))+((m1*(r3-r1))/(mag(r3-r1))**3)+((m2*(r3-r2))/(mag(r3-r2)**3)))) # dv of second planet\n",
    "    dr3 = v3*dt # dr of planet\n",
    "    r3 = r3 + dr3\n",
    "    Planet2.pos = r3\n",
    "    v1 = v1 + dv1\n",
    "    v2 = v2 + dv2\n",
    "    v3 = v3 + dv3\n",
    "    rate(150)\n",
    "    label_moon.pos = r2 + vector(0, 0.2 , 0)\n",
    "    label_planet.pos = r1 + vector(0, 0.2 , 0)\n",
    "    label_planet2.pos = r3 + vector(0, 0.2 , 0)\n",
    "    step = step + 1\n",
    "\n",
    "print(\"end of program\")"
   ]
  },
  {
   "cell_type": "markdown",
   "metadata": {},
   "source": [
    "## Conclusion ##\n",
    "\n",
    "During this session, I learnt how to animate a model of the solar system using vpython functions, and I see its usefulness to visualise the situation. I have utilised physics equations correctly, by changing the parameters of the inputs, to simulate different orbits for different planet."
   ]
  }
 ],
 "metadata": {
  "kernelspec": {
   "display_name": "Python 3",
   "language": "python",
   "name": "python3"
  },
  "language_info": {
   "codemirror_mode": {
    "name": "ipython",
    "version": 3
   },
   "file_extension": ".py",
   "mimetype": "text/x-python",
   "name": "python",
   "nbconvert_exporter": "python",
   "pygments_lexer": "ipython3",
   "version": "3.6.3"
  }
 },
 "nbformat": 4,
 "nbformat_minor": 2
}
