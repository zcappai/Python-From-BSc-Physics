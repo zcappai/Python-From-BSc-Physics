{
 "cells": [
  {
   "cell_type": "markdown",
   "metadata": {
    "collapsed": true
   },
   "source": [
    "# Constructing and Analysing the Crystalline Structure of Sodium Chloride #\n",
    "In this notebook I will be creating and analysing the crystalline structure of the ionic compound, Sodium Chloride (NaCl). I shall start by importing the relevant coding packages, including certain libraries from the visual python 3D graphics module, in order to create models of ionic lattices. Furthermore, I will be considering the electrical potential between ions in the structure, as well as the total potential felt by the central atom due to every other atom, which can be done by first calculating the Madelung sum and verifying whether it is a good approximation of an infinite crystal, containing an infinite number of ions."
   ]
  },
  {
   "cell_type": "code",
   "execution_count": 1,
   "metadata": {},
   "outputs": [
    {
     "data": {
      "application/javascript": [
       "require.undef(\"nbextensions/vpython_libraries/glow.min\");"
      ],
      "text/plain": [
       "<IPython.core.display.Javascript object>"
      ]
     },
     "metadata": {},
     "output_type": "display_data"
    },
    {
     "data": {
      "application/javascript": [
       "require.undef(\"nbextensions/vpython_libraries/glowcomm\");"
      ],
      "text/plain": [
       "<IPython.core.display.Javascript object>"
      ]
     },
     "metadata": {},
     "output_type": "display_data"
    },
    {
     "data": {
      "application/javascript": [
       "require.undef(\"nbextensions/vpython_libraries/jquery-ui.custom.min\");"
      ],
      "text/plain": [
       "<IPython.core.display.Javascript object>"
      ]
     },
     "metadata": {},
     "output_type": "display_data"
    },
    {
     "data": {
      "application/javascript": [
       "require([\"nbextensions/vpython_libraries/glow.min\"], function(){console.log(\"GLOW LOADED\");})"
      ],
      "text/plain": [
       "<IPython.core.display.Javascript object>"
      ]
     },
     "metadata": {},
     "output_type": "display_data"
    },
    {
     "data": {
      "application/javascript": [
       "require([\"nbextensions/vpython_libraries/glowcomm\"], function(){console.log(\"GLOWCOMM LOADED\");})"
      ],
      "text/plain": [
       "<IPython.core.display.Javascript object>"
      ]
     },
     "metadata": {},
     "output_type": "display_data"
    },
    {
     "data": {
      "application/javascript": [
       "require([\"nbextensions/vpython_libraries/jquery-ui.custom.min\"], function(){console.log(\"JQUERY LOADED\");})"
      ],
      "text/plain": [
       "<IPython.core.display.Javascript object>"
      ]
     },
     "metadata": {},
     "output_type": "display_data"
    },
    {
     "data": {
      "text/html": [
       "<div id=\"glowscript\" class=\"glowscript\"></div>"
      ],
      "text/plain": [
       "<IPython.core.display.HTML object>"
      ]
     },
     "metadata": {},
     "output_type": "display_data"
    },
    {
     "data": {
      "application/javascript": [
       "window.__context = { glowscript_container: $(\"#glowscript\").removeAttr(\"id\")}"
      ],
      "text/plain": [
       "<IPython.core.display.Javascript object>"
      ]
     },
     "metadata": {},
     "output_type": "display_data"
    }
   ],
   "source": [
    "import numpy as np\n",
    "from vpython import sphere, color, vector, arrow, canvas"
   ]
  },
  {
   "cell_type": "markdown",
   "metadata": {},
   "source": [
    "In the above code cell, I have simply imported the required coding libraries that I would need to complete the tasks. In this case it is \"numpy\" package and certain libraries from the \"vpython\" 3D graphics module, which can be used to draw things such as spheres amd arrows, as well as changing the colour and specifying the position or direction of objects."
   ]
  },
  {
   "cell_type": "markdown",
   "metadata": {},
   "source": [
    "### NaCl (rocksalt) structure\n",
    "\n",
    "Now we'll look at a Sodium Chloride crystal structure. This is also a cubic crystal structure, but now the atoms are arranged so that they alternate in each plane, like this:\n",
    "https://commons.wikimedia.org/wiki/File:Sodium-chloride-3D-ionic.png#/media/File:Sodium-chloride-3D-ionic.png\n",
    "\n",
    "If we label the coordinates of each atom by `(i,j,k)`, as before, then for this structure we have sodium atoms where $ i + j + k $ is even, and chlorine atoms where $i + j + k$ is odd. You can find further information on these crystal structures, if you're interested: http://en.wikipedia.org/wiki/Cubic_crystal_system and https://en.wikipedia.org/wiki/Crystal_structure )\n",
    "\n",
    "Here is the code from the script that creates the model of the simple cubic structure. \n"
   ]
  },
  {
   "cell_type": "code",
   "execution_count": null,
   "metadata": {
    "collapsed": true
   },
   "outputs": [],
   "source": [
    "# Simple cubic crystal structure\n",
    "canvas()   # create a new vpython \"canvas\" output for this cell \n",
    "L = 3      # number of spheres in system will be (2L + 1)^3\n",
    "size = 0.3 # size of the \"atoms\"\n",
    "# loop over each spatial dimension\n",
    "for i in range(-L, L+1):\n",
    "    for j in range(-L, L+1):\n",
    "        for k in range (-L, L+1):\n",
    "            sphere(pos=vector(i,j,k),radius=size,color=color.green) # green sphere at each point on the lattice grid            \n",
    "            "
   ]
  },
  {
   "cell_type": "markdown",
   "metadata": {},
   "source": [
    "<div class=\"alert alert-success\">\n",
    "***TASK PART 1:***\n",
    "In the code cell below, adapt this code so that instead of drawing a green atom-sphere at each location, it draws:\n",
    "<ul>\n",
    "<li> A white sphere to represent the sodium atom at the centre of the coordinate system (i.e. where $i = j = k = 0$);</li>\n",
    "<li> A sphere (choose any colour you like) to represent the sodium atoms at all coordinates where $i + j + k$ is an even integer; and</li>\n",
    "<li> A sphere (choose any other colour) to represent the chlorine atoms at all the other coordinates, i.e. where $i + j + k$ is odd.</li>\n",
    "</ul> \n",
    "<br>\n",
    "Hint: You will find it useful to remember the if/elif/else structure we saw in session 1 - you can find a summary of this in section 2.5.1 (page 56) of [Hill: Learning Scientific Programming](http://sfx.ucl.ac.uk/sfx_local?ctx_ver=Z39.88-2004&ctx_enc=info:ofi/enc:UTF-8&ctx_tim=2016-07-18T13%3A15%3A47IST&url_ver=Z39.88-2004&url_ctx_fmt=infofi/fmt:kev:mtx:ctx&rfr_id=info:sid/primo.exlibrisgroup.com:primo3-Journal-UCL_LMS_DS&rft_val_fmt=info:ofi/fmt:kev:mtx:book&rft.genre=book&rft.atitle=&rft.jtitle=&rft.btitle=Learning%20scientific%20programming%20with%20Python&rft.aulast=Hill&rft.auinit=&rft.auinit1=&rft.auinitm=&rft.ausuffix=&rft.au=Hill,%20Christian,%201974-,%20author&rft.aucorp=&rft.volume=&rft.issue=&rft.part=&rft.quarter=&rft.ssn=&rft.spage=&rft.epage=&rft.pages=&rft.artnum=&rft.issn=&rft.eissn=&rft.isbn=9781107075412&rft.sici=&rft.coden=&rft_id=info:doi/&rft.object_id=&rft.856_url=&rft_dat=%3CUCL_LMS_DS%3E002240476%3C/UCL_LMS_DS%3E&rft.eisbn=&rft_id=info:oai/&req.language=eng), or at https://docs.python.org/3/tutorial/controlflow.html\n",
    "</div>"
   ]
  },
  {
   "cell_type": "code",
   "execution_count": 2,
   "metadata": {},
   "outputs": [
    {
     "data": {
      "text/html": [
       "<div id=\"glowscript\" class=\"glowscript\"></div>"
      ],
      "text/plain": [
       "<IPython.core.display.HTML object>"
      ]
     },
     "metadata": {},
     "output_type": "display_data"
    },
    {
     "data": {
      "application/javascript": [
       "window.__context = { glowscript_container: $(\"#glowscript\").removeAttr(\"id\")}"
      ],
      "text/plain": [
       "<IPython.core.display.Javascript object>"
      ]
     },
     "metadata": {},
     "output_type": "display_data"
    }
   ],
   "source": [
    "# Simple cubic crystal structure\n",
    "canvas()   # create a new vpython \"canvas\" output for this cell\n",
    "L = 3      # number of spheres in system will be (2L + 1)^3\n",
    "size = 0.3 # size of the sodium \"atoms\"\n",
    "# loop over each spatial dimension\n",
    "for i in range(-L,L+1):\n",
    "    for j in range(-L,L+1):\n",
    "        for k in range(-L,L+1):\n",
    "            if i == j == k == 0:\n",
    "                sphere(pos=vector(i,j,k),radius=size,color=color.white) #  white sphere to represent central sodium ion\n",
    "            elif (i+j+k)%2 == 0:\n",
    "                sphere(pos=vector(i,j,k),radius=size,color=color.green) # spheres to represent sodium atoms on the lattice grid\n",
    "            else:\n",
    "                sphere(pos=vector(i,j,k),radius=size,color=color.red) # sphere to represent chlorine atoms on the lattice grid"
   ]
  },
  {
   "cell_type": "markdown",
   "metadata": {},
   "source": [
    "In the code cell above, I have created a simple ionic lattice for Sodium Chloride, in which sodium ions are represented by the green spheres in addition to the central white sphere, which represents the central sodium ion in the lattice. Therefore the red spheres are to show the chlorine ions in the lattice.\n",
    "\n",
    "In order to construct this lattice I had to use a \"for loop\" in additon to if/elif/else condition statements, in each spatial dimension to make sure that a cubic lattice structure was formed. By using \"(i+j+k)%2 == 0\", only the coordinates where the sum \"(i+j+k)\" is even will be affected. This is because, if the sum of the coordinates is divisble by 2 without leaving a remainder (even), then the result will be 0, which means that the statement following it will run. Otherwise the \"else\" code will run, which will be all coordinates where \"(i+j+k)\" is divisble by 2 and leaves a remainder, meaning the \"(i+j+k)\" is odd."
   ]
  },
  {
   "cell_type": "markdown",
   "metadata": {
    "collapsed": true
   },
   "source": [
    "## Electric potential\n",
    "\n",
    "Sodium Chloride is an ionic solid, in which the entities are ions rather than neutral atoms.  Each sodium ion will have a charge $+e$, and each chlorine ion $-e$. \n",
    "\n",
    "We're going to consider the total electric potential $V$ that each atom/ion in the NaCl crystal feels. The total potential will then depend on the charges and positions of the nearby atoms.\n",
    "\n",
    "Consider the electric potential that the centre (white) sodium ion feels as a result of just one of the other ions in the crystal model.\n",
    "Remember, the electric potential will be given by:\n",
    "$$ V = \\frac{1}{4\\pi \\varepsilon_0} \\frac{q_1 q_2}{r} $$\n",
    "where $q_1$, $q_2$ are the charges of the two objects and $r$ the length of the vector between them. Here $q_1$ will be the charge of the central sodium atom (which we are considering as if it were a point charge), $+e$, and $q_2$ will be the charge of the other atom, which will be either $+e$ or $-e$, depending on whether it is a sodium or chlorine ion."
   ]
  },
  {
   "cell_type": "markdown",
   "metadata": {},
   "source": [
    "<div class=\"alert alert-success\">\n",
    "***TASK PART 2:*** Copy and paste your code cell for Part 1 into the code cell below. Now edit it to draw a representation of the vector $\\mathbf{r}$ between the central sodium ion and the ion at $i = 2, j = -3, k = +3$. (Use  a vpython \"arrow\" object for this). Is this ion a sodium or a chlorine ion? Will the potential felt by the central Na ion due to this ion be positive or negative?\n",
    "<br>\n",
    "Now also include a vpython representation of the vector from the central Na ion to the ion at $i = -3, j = +2, k = +2$. Is this ion a sodium or a chlorine ion? Will the potential felt by the central Na ion due to this ion be positive or negative? Use the text cell below the code cell to answer.</div>"
   ]
  },
  {
   "cell_type": "code",
   "execution_count": 3,
   "metadata": {},
   "outputs": [
    {
     "data": {
      "text/html": [
       "<div id=\"glowscript\" class=\"glowscript\"></div>"
      ],
      "text/plain": [
       "<IPython.core.display.HTML object>"
      ]
     },
     "metadata": {},
     "output_type": "display_data"
    },
    {
     "data": {
      "application/javascript": [
       "window.__context = { glowscript_container: $(\"#glowscript\").removeAttr(\"id\")}"
      ],
      "text/plain": [
       "<IPython.core.display.Javascript object>"
      ]
     },
     "metadata": {},
     "output_type": "display_data"
    }
   ],
   "source": [
    "# Simple cubic crystal structure\n",
    "canvas()   # create a new vpython \"canvas\" output for this cell\n",
    "L = 3      # number of spheres in system will be (2L + 1)^3\n",
    "size = 0.3 # size of the sodium \"atoms\"\n",
    "# loop over each spatial dimension\n",
    "for i in range(-L,L+1):\n",
    "    for j in range(-L,L+1):\n",
    "        for k in range(-L,L+1):\n",
    "            if i == j == k == 0:\n",
    "                sphere(pos=vector(i,j,k),radius=size,color=color.white) #  white sphere to represent central sodium ion\n",
    "            elif (i+j+k)%2 == 0:\n",
    "                sphere(pos=vector(i,j,k),radius=size,color=color.green) # spheres to represent sodium atoms on the lattice grid\n",
    "            else:\n",
    "                sphere(pos=vector(i,j,k),radius=size,color=color.red) # sphere to represent chlorine atoms on the lattice grid\n",
    "                \n",
    "vec1 = arrow(pos=vector(0,0,0),axis=vector(2,-3,3)-vector(0,0,0),shaftwidth=0.1,color=color.blue) # arrow to represent vector 1\n",
    "vec2 = arrow(pos=vector(0,0,0),axis=vector(-3,2,2)-vector(0,0,0),shaftwidth=0.1,color=color.cyan) # arrow to represent vector 2"
   ]
  },
  {
   "cell_type": "markdown",
   "metadata": {},
   "source": [
    "* The ion at $i = +2, j = -3, k = +3$ is a SODIUM ion and the central Na ion will feel a POSITIVE potential due to this ion.\n",
    "* The ion at $i = -3, j = +2, k = +2$ is a CHLORINE ion and the central Na ion will feel a NEGATIVE potential due to this ion.\n",
    "\n",
    "Vector 1 represents the arrow from (0,0,0) to (2,-3,3) and vector 2 represents the arrow from (0,0,0) to (-3,2,2). The central Na ion felt a positive potential with the sodium ion because they are both positive charges, therefore the potential will be $ +e $ multiplied by $ +e $, which is positive. Whereas for the chlorine atom, the potential is negative because the chlorine atom is a negative charge and $ -e $ multiplied by $ +e $ is negative. This is true since $ \\frac{1}{4\\pi \\varepsilon_0} $ is positive as well as $ r $ being positive."
   ]
  },
  {
   "cell_type": "markdown",
   "metadata": {},
   "source": [
    "## The Madelung sum\n",
    "\n",
    "Now we can start to see how each of the ions in our crystal model will contribute to the total potential that the central atom feels. We'll need to calculate a sum over all the other ions in the crystal, and add their contribution to the total potential. We can write this as:\n",
    "\n",
    "$$ V_\\text{total} = \\frac{1}{4\\pi\\varepsilon_0} \\sum_{i,j,k= -L (i,j,k, \\neq 0)}^L \\frac{\\pm e}{ a \\sqrt{i^2 + j^2 + k^2}}. $$\n",
    "\n",
    "The value $a$ in the denominator is the actual separation between the ions in the crystal. In a typical crystal with this structure, the interatomic spacing is about 0.5 nm.\n",
    "\n",
    "We can express this more concisely as\n",
    "\n",
    "$$ V_\\text{total} = \\frac{e}{4\\pi\\varepsilon_0 a} M $$\n",
    "\n",
    "where $M$ is the Madelung sum,\n",
    "\n",
    "$$ M = \\sum_{i,j,k= -L (i,j,k, \\neq 0)}^L \\frac{\\pm 1}{ \\sqrt{i^2 + j^2 + k^2}}. $$\n",
    "\n",
    "This is what you're going to calculate now. Hopefully you'll have spotted that, conveniently, we've already got the code structure in place for the triple summation over values of $i, j,$ and $k$."
   ]
  },
  {
   "cell_type": "markdown",
   "metadata": {},
   "source": [
    "<div class=\"alert alert-success\">\n",
    "***TASK PART 3a:*** \n",
    "\n",
    "Copy and paste your working code from Part 2 into the first code cell below. Then use this to:\n",
    "\n",
    "<ol> \n",
    "<li> Further adapt your code above to calculate the Madelung sum $M$ for this crystal model,  and output the result (together with all appropriate units). </li>\n",
    "<li>Try increasing the value of $L$ in your code. Do you encounter any problems? [Hint: if your code gets stuck, press the stop button to interrupt the kernel. It's also an idea to restart the kernel, clearing all output, before rerunning your code]. Describe this briefly in the text cell below, then reset L to 3 and rerun.</li>\n",
    "\n",
    "</ol>\n",
    "</div>"
   ]
  },
  {
   "cell_type": "code",
   "execution_count": null,
   "metadata": {
    "collapsed": true,
    "scrolled": false
   },
   "outputs": [],
   "source": [
    "# Simple cubic crystal structure\n",
    "canvas()   # create a new vpython \"canvas\" output for this cell\n",
    "L = 3      # number of spheres in system will be (2L + 1)^3\n",
    "size = 0.3 # size of the sodium \"atoms\"\n",
    "m1 = 0 # initialising value of +ve contribution to summation\n",
    "m2 = 0 # initialising value of -ve contribution to summation\n",
    "# loop over each spatial dimension\n",
    "for i in range(-L,L+1):\n",
    "    for j in range(-L,L+1):\n",
    "        for k in range(-L,L+1):\n",
    "            if i == j == k == 0:\n",
    "                sphere(pos=vector(i,j,k),radius=size,color=color.white) #  white sphere to represent central sodium ion\n",
    "            elif (i+j+k)%2 == 0:\n",
    "                sphere(pos=vector(i,j,k),radius=size,color=color.green) # spheres to represent sodium atoms on the lattice grid\n",
    "                m1 = m1 + (1/(np.sqrt(i**2 + j**2 + k**2)))\n",
    "            else:\n",
    "                sphere(pos=vector(i,j,k),radius=size,color=color.red) # sphere to represent chlorine atoms on the lattice grid\n",
    "                m2 = m2 - (1/(np.sqrt(i**2 + j**2 + k**2)))\n",
    "print(\"The Madelung Sum is equal to\", m1 + m2, \"no units (dimensionless)\")\n",
    "\n",
    "vec1 = arrow(pos=vector(0,0,0),axis=vector(2,-3,3)-vector(0,0,0),shaftwidth=0.1,color=color.blue) # arrow to represent vector 1\n",
    "vec2 = arrow(pos=vector(0,0,0),axis=vector(-3,2,2)-vector(0,0,0),shaftwidth=0.1,color=color.cyan) # arrow to represent vector 2"
   ]
  },
  {
   "cell_type": "markdown",
   "metadata": {},
   "source": [
    "I have included no units because the Madelung sum is dimensionless. As seen above, I have calculated and outputted its value for when L = 3. I have decided to split the sum into 2 parts. First I calculated the contribution of the positive charges (sodium ions) to the summation and then I subsequently calculated the contribution of the negative charges (chlorine ions) to the summation. Then I finally calculated the Madelung sum by adding the together \"m1\", from the positive ions, and \"m2\", from the negative ions.\n",
    "\n",
    "I slowly increased the value of L from 3 upwards. By starting at 3 the code ran very quickly, outputting the result in less than a second. However when increased to 15, the code took about 5 seconds to run, which is longer, however the value of Madelung sum outputted is more accurate. Moreover, the 3D graphics no longer showed after increasing to a certain number. At L = 10, however, and above I noticed a significant decrease in performance of the notebook to the point where it was almost unusable. I was forced to save, close and re-open the notebook to get rid of the performance issue caused by running the code."
   ]
  },
  {
   "cell_type": "markdown",
   "metadata": {},
   "source": [
    "<div class=\"alert alert-success\">\n",
    "***TASK PART 3b:*** \n",
    "\n",
    "Finally, copy and paste your completed code into the code cell below. Comment/edit out all the vpython drawing commands, set $L$ to 100, and output this value of M. _Roughly_ estimate how long this takes to calculate. For an infinite (i.e. when $L = \\infty$) NaCl structure crystal, the value of $M$ is $\\sim -1.748$. How do your values compare? Discuss in a text cell.\n",
    "\n",
    "</div>"
   ]
  },
  {
   "cell_type": "code",
   "execution_count": null,
   "metadata": {
    "collapsed": true
   },
   "outputs": [],
   "source": [
    "# Simple cubic crystal structure\n",
    "canvas()   # create a new vpython \"canvas\" output for this cell\n",
    "L = 100     # number of spheres in system will be (2L + 1)^3\n",
    "m1 = 0 # initialising value of +ve contribution to summation\n",
    "m2 = 0 # initialising value of -ve contribution to summation\n",
    "# loop over each spatial dimension\n",
    "for i in range(-L,L+1):\n",
    "    for j in range(-L,L+1):\n",
    "        for k in range(-L,L+1):\n",
    "            if i == j == k == 0: # so that (i,j,k) cannot equal 0\n",
    "                zero = 0 \n",
    "            elif (i+j+k)%2 == 0:\n",
    "                m1 = m1 + (1/(np.sqrt(i**2 + j**2 + k**2)))\n",
    "            else:\n",
    "                m2 = m2 - (1/(np.sqrt(i**2 + j**2 + k**2)))\n",
    "print(\"The Madelung Sum is equal to\", m1 + m2)"
   ]
  },
  {
   "cell_type": "markdown",
   "metadata": {},
   "source": [
    "Upon changing L to 100 and running, the code took approximately 30 seconds to output the result for the Madelung sum. The 2 values, one for L = 100 and the other for L = $ \\infty{} $, are very similar because to 4 significant figures they are -1.742 for L = 100 and L = -1.748 for L = $ \\infty{} $. Though the results are very similar, this is a very inefficient way of calculating the Madelung sum, this is because in order to obtain more accurate values, the value of L must be increased, however this will greatly increase the run time of the code. Usually NaCl lattices contain billions of ions, which would increase the run time for the code to a point at which it becomes pointless using this method."
   ]
  }
 ],
 "metadata": {
  "anaconda-cloud": {},
  "kernelspec": {
   "display_name": "Python 3",
   "language": "python",
   "name": "python3"
  },
  "language_info": {
   "codemirror_mode": {
    "name": "ipython",
    "version": 3
   },
   "file_extension": ".py",
   "mimetype": "text/x-python",
   "name": "python",
   "nbconvert_exporter": "python",
   "pygments_lexer": "ipython3",
   "version": "3.6.2"
  }
 },
 "nbformat": 4,
 "nbformat_minor": 1
}
