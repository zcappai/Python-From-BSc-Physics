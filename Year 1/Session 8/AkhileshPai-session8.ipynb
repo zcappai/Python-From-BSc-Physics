{
 "cells": [
  {
   "cell_type": "markdown",
   "metadata": {
    "collapsed": true
   },
   "source": [
    "# Animation of Projectile Motion Using Classical Mechanics #\n",
    "In this task, I will be creating an animation to model the projectile motion of a ball. I will be applying my knowledge of classical mechanics in order to correctly create a visual representation of the motion."
   ]
  },
  {
   "cell_type": "code",
   "execution_count": 2,
   "metadata": {},
   "outputs": [
    {
     "data": {
      "application/javascript": [
       "require.undef(\"nbextensions/vpython_libraries/glow.min\");"
      ],
      "text/plain": [
       "<IPython.core.display.Javascript object>"
      ]
     },
     "metadata": {},
     "output_type": "display_data"
    },
    {
     "data": {
      "application/javascript": [
       "require.undef(\"nbextensions/vpython_libraries/glowcomm\");"
      ],
      "text/plain": [
       "<IPython.core.display.Javascript object>"
      ]
     },
     "metadata": {},
     "output_type": "display_data"
    },
    {
     "data": {
      "application/javascript": [
       "require.undef(\"nbextensions/vpython_libraries/jquery-ui.custom.min\");"
      ],
      "text/plain": [
       "<IPython.core.display.Javascript object>"
      ]
     },
     "metadata": {},
     "output_type": "display_data"
    },
    {
     "data": {
      "application/javascript": [
       "require([\"nbextensions/vpython_libraries/glow.min\"], function(){console.log(\"GLOW LOADED\");})"
      ],
      "text/plain": [
       "<IPython.core.display.Javascript object>"
      ]
     },
     "metadata": {},
     "output_type": "display_data"
    },
    {
     "data": {
      "application/javascript": [
       "require([\"nbextensions/vpython_libraries/glowcomm\"], function(){console.log(\"GLOWCOMM LOADED\");})"
      ],
      "text/plain": [
       "<IPython.core.display.Javascript object>"
      ]
     },
     "metadata": {},
     "output_type": "display_data"
    },
    {
     "data": {
      "application/javascript": [
       "require([\"nbextensions/vpython_libraries/jquery-ui.custom.min\"], function(){console.log(\"JQUERY LOADED\");})"
      ],
      "text/plain": [
       "<IPython.core.display.Javascript object>"
      ]
     },
     "metadata": {},
     "output_type": "display_data"
    },
    {
     "data": {
      "text/html": [
       "<div id=\"glowscript\" class=\"glowscript\"></div>"
      ],
      "text/plain": [
       "<IPython.core.display.HTML object>"
      ]
     },
     "metadata": {},
     "output_type": "display_data"
    },
    {
     "data": {
      "application/javascript": [
       "window.__context = { glowscript_container: $(\"#glowscript\").removeAttr(\"id\")}"
      ],
      "text/plain": [
       "<IPython.core.display.Javascript object>"
      ]
     },
     "metadata": {},
     "output_type": "display_data"
    }
   ],
   "source": [
    "import numpy as np\n",
    "from vpython import sphere, color, rate, canvas, vector, curve"
   ]
  },
  {
   "cell_type": "markdown",
   "metadata": {},
   "source": [
    "In the above code cell, I have imported the required coding libraries that I would need to complete the task at hand. In this case it is \"numpy\" package and certain libraries from the \"vpython\" 3D graphics module, which can be used to draw spheres, lines and curves, as well as changing the colour and specifying the position or direction of objects."
   ]
  },
  {
   "cell_type": "code",
   "execution_count": 3,
   "metadata": {
    "scrolled": false
   },
   "outputs": [
    {
     "data": {
      "text/html": [
       "<div id=\"glowscript\" class=\"glowscript\"></div>"
      ],
      "text/plain": [
       "<IPython.core.display.HTML object>"
      ]
     },
     "metadata": {},
     "output_type": "display_data"
    },
    {
     "data": {
      "application/javascript": [
       "window.__context = { glowscript_container: $(\"#glowscript\").removeAttr(\"id\")}"
      ],
      "text/plain": [
       "<IPython.core.display.Javascript object>"
      ]
     },
     "metadata": {},
     "output_type": "display_data"
    },
    {
     "name": "stdout",
     "output_type": "stream",
     "text": [
      "Input the initial angle in degrees: 30\n",
      "Input the initial speed in metres/second: 15\n",
      "The time of flight is:  1.5500000000000012 s\n",
      "The final value for x is:  20.0051868274 m\n",
      "The range of the ball is:  19.8832363114 m\n"
     ]
    }
   ],
   "source": [
    "### set up the scene\n",
    "canvas(center = vector(50,20,0),range=50) # Creates suitable canvas\n",
    "ground = curve(pos=[vector(-5,0,0),vector(100,0,0)],color = color.green) # Creates the ground\n",
    "\n",
    "# initial ball coordinates (metres)\n",
    "x0 = 0.0\n",
    "y0 = 0.0\n",
    "# additional parameters\n",
    "g = 9.8 # gravitational acceleration, m/s2\n",
    "dt = 0.01 # time interval for loop animation, in seconds\n",
    "\n",
    "# input initial angle and speed\n",
    "dtheta = float(input(\"Input the initial angle in degrees: \"))\n",
    "theta = np.radians(dtheta) # Converts angle to radians\n",
    "v0 = float(input(\"Input the initial speed in metres/second: \"))\n",
    "\n",
    "# start the animation\n",
    "ball = sphere(pos = vector(x0,y0,0),radius = 1,make_trail=True) # Creates sphere at origin of radius 1, and makes trail behind it\n",
    "t = 0 # Initial time\n",
    "y = y0 # Initialising y value\n",
    "x = x0 # Initialising x value\n",
    "while y >= y0: # has the ball hit the ground yet?\n",
    "    rate(100) # Sets rate of animation\n",
    "    x = x0 + v0 * t * np.cos(theta) # Calculates new x position\n",
    "    y = y0 + v0 * t * np.sin(theta) - (0.5 * g * t**2) # Calculates new y-position\n",
    "    ball.pos = vector(x,y,0) # Puts ball in new position\n",
    "    t = t + dt # Proceeds to next value of t\n",
    "        \n",
    "rangeBall = ((v0**2) * np.sin(2 * theta)) / g # Calculates the range of the ball\n",
    "\n",
    "# Print statements, print the stated values\n",
    "print(\"The time of flight is: \", t , \"s\")\n",
    "print(\"The final value for x is: \", x, \"m\")\n",
    "print(\"The range of the ball is: \", rangeBall, \"m\")"
   ]
  },
  {
   "cell_type": "markdown",
   "metadata": {},
   "source": [
    "As you can see in the code cell above, I have coded the model for the projectile motion of the ball using classical mechanics. THe first 11 lines of code in the code cell were pre-provided for this task in the task template. The first 2 lines are just to set up a new canvas on which the model can be presented, as well as creating a green line which is the ground and is where the ball is launched from and where it lands. The next 4 lines of code following this are where different parameters are defined, such as the initial x coordinate for the ball (x0) and the initial y coordinate of the ball (y0), in addition to the acceleration due to gravity of the Earth (9.8 ms^-1) and the time interval for the loop (dt). The next line, containing \"dtheta\" is where the launch angle of the ball is inputted. When the code is run, the user will be asked to enter an angle at which the ball will be launched from its starting position. However since trigonometric numpy functions can only deal with radians and not degrees, therefore the angle that is inputted in degrees must be converted into radians, which is the purpose of \"theta = \" line. The line after is to input the initial speed of the ball.\n",
    "\n",
    "The next 4 lines of code and the while loop are used to actually create the animation. The first of these lines is used to create the sphere on the canvas at the origin, which is (x0, y0, 0). The \"make_trail=True\" is to create a trail behind the sphere while it moves through the air in the animation, this is to see that it has created the parabolic curve that is expected in this model. The ball will create a parabolic curve because when the equation for the position in the x axis is combined with the equation for the position in the y axis, eliminating time, the equation of y will be in terms of x^2. The 3 lines that follow are where the x, y and time values are initialised.\n",
    "\n",
    "The while loop is used to calculate the new value of x and y for the ball for the given speed that was inputted, as well as the angle. The \"rate(100)\" is just to set the speed of the animation, so the higher the number, the faster the animation will go. The while loop basically says that while the y value of the ball is greater than or equal to y0, which is the ground's y value, the new x value of the ball will be calculated using $ x(t) = x_0 + v_0 t \\cos \\theta $ and the new y values will be calculated using $ y(t) = y_0 + v_0 t \\sin \\theta -\\frac{1}{2}g t^2 $. Then the ball will be placed at the newly calculated coordinates. Then the time is increased by \"dt\" which is 0.01 seconds. This while loop is repeated every 0.01 second time interval.\n",
    "\n",
    "After the while loop, the equation provided for calculating the range, $ \\text{Range} = \\frac{v_0^2 \\sin(2\\theta)}{g} $, was used to calculate the range of the ball. The final value of x, the time of flight and the range of the ball (calculated at the end) were all printed with appropriate units.\n",
    "\n",
    "The reason the final value of x and the range are not the same, even though they may be expected to be, is because the abll ends up partially embedded in the ground. As the loop only stops when the value of y is less than 0, and it is very unlikely that the value of y will be exactly 0, so the final x value is in fact the distance travelled from the origin parallel to the x axis by the ball including the distance travelled in x after being embedded in the ground."
   ]
  }
 ],
 "metadata": {
  "anaconda-cloud": {},
  "kernelspec": {
   "display_name": "VPython",
   "language": "python",
   "name": "vpython"
  },
  "language_info": {
   "codemirror_mode": {
    "name": "ipython",
    "version": 3
   },
   "file_extension": ".py",
   "mimetype": "text/x-python",
   "name": "python",
   "nbconvert_exporter": "python",
   "pygments_lexer": "ipython3",
   "version": "3.6.2"
  }
 },
 "nbformat": 4,
 "nbformat_minor": 1
}
