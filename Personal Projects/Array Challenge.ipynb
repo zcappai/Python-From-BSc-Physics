{
 "cells": [
  {
   "cell_type": "markdown",
   "metadata": {},
   "source": [
    "# Rotating Any Sized Square Array Clockwise By 90 Degrees"
   ]
  },
  {
   "cell_type": "code",
   "execution_count": 1,
   "metadata": {},
   "outputs": [
    {
     "name": "stdout",
     "output_type": "stream",
     "text": [
      "[[1, 2, 3, 4], [5, 6, 7, 8], [9, 10, 11, 12], [13, 14, 15, 16]]\n",
      "[[13, 9, 5, 1], [14, 10, 6, 2], [15, 11, 7, 3], [16, 12, 8, 4]]\n"
     ]
    }
   ],
   "source": [
    "x = [[1,2,3, 4],[5, 6, 7, 8],[9, 10, 11, 12],[13, 14, 15, 16]] # Example array\n",
    "N = len(x) # Length of array\n",
    "print(x)\n",
    "\n",
    "# For loop to rotate array\n",
    "# Indentifies elements that are linked together and swaps them\n",
    "# e.g. all the corners are linked because they swap with each other only when rotating\n",
    "for i in range(N//2):\n",
    "    for j in range(i, N-i-1):\n",
    "        first = x[i][j]\n",
    "        x[i][j] = x[N-1-j][i]\n",
    "        x[N-1-j][i] = x[N-1-i][N-1-j]\n",
    "        x[N-1-i][N-1-j] = x[j][N-1-i]\n",
    "        x[j][N-1-i] = first\n",
    "\n",
    "print(x) # Printing rotated array"
   ]
  },
  {
   "cell_type": "markdown",
   "metadata": {},
   "source": [
    "# End"
   ]
  }
 ],
 "metadata": {
  "kernelspec": {
   "display_name": "Python 3",
   "language": "python",
   "name": "python3"
  },
  "language_info": {
   "codemirror_mode": {
    "name": "ipython",
    "version": 3
   },
   "file_extension": ".py",
   "mimetype": "text/x-python",
   "name": "python",
   "nbconvert_exporter": "python",
   "pygments_lexer": "ipython3",
   "version": "3.7.4"
  }
 },
 "nbformat": 4,
 "nbformat_minor": 2
}
