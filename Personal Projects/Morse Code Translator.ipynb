{
 "cells": [
  {
   "cell_type": "markdown",
   "metadata": {},
   "source": [
    "# Morse Code Translator"
   ]
  },
  {
   "cell_type": "code",
   "execution_count": 1,
   "metadata": {},
   "outputs": [],
   "source": [
    "# Defining arrays containing letters of alphabet and corresponding morse code symbols\n",
    "alphabet = [\"a\", \"b\", \"c\", \"d\", \"e\", \"f\", \"g\", \"h\", \"i\", \"j\", \"k\", \"l\", \"m\",\n",
    "            \"n\", \"o\", \"p\", \"q\", \"r\", \"s\", \"t\", \"u\", \"v\", \"w\", \"x\", \"y\", \"z\",\n",
    "            \"1\", \"2\", \"3\", \"4\", \"5\", \"6\", \"7\", \"8\", \"9\", \"0\"]\n",
    "morse = [\".-\", \"-...\", \"-.-.\", \"-..\", \".\", \"..-.\", \"--.\", \"....\", \"..\", \".---\", \"-.-\",\n",
    "        \".-..\", \"--\", \"-.\", \"---\", \".--.\", \"--.-\", \".-.\", \"...\", \"-\", \"..-\", \"...-\",\n",
    "        \".--\", \"-..-\", \"-.--\", \"--..\", \".----\", \"..---\", \"...--\", \"....-\", \".....\", \"-....\",\n",
    "        \"--...\", \"---..\", \"----.\", \"-----\"]\n",
    "\n",
    "# Defining function to split words into individual character and put into array\n",
    "def split(word):\n",
    "    return [char for char in word]"
   ]
  },
  {
   "cell_type": "markdown",
   "metadata": {},
   "source": [
    "# English to Morse"
   ]
  },
  {
   "cell_type": "code",
   "execution_count": 2,
   "metadata": {},
   "outputs": [
    {
     "name": "stdout",
     "output_type": "stream",
     "text": [
      "Enter Your Text:\n",
      "My name is Akhilesh Pai\n",
      "\n",
      "Morse Code:\n",
      "|--|-.-- |-.|.-|--|. |..|... |.-|-.-|....|..|.-..|.|...|.... |.--.|.-|..\n"
     ]
    }
   ],
   "source": [
    "# Text input to be converted to morse code\n",
    "print(\"Enter Your Text:\")\n",
    "x = input()\n",
    "string = split(str.lower(x)) # Make input text lowercase and splitting into individual letters\n",
    "\n",
    "morse_builder = \"\" # Empty string for morse code\n",
    "\n",
    "# For loop for converting text into morse code\n",
    "for i in string:\n",
    "    if(i == \" \"):\n",
    "        morse_builder += \" \" # When there is a space between words\n",
    "    else:\n",
    "        morse_builder += \"|\"\n",
    "        letter_index = alphabet.index(i) # Gets index of letter in alphabet array\n",
    "        morse_code = morse[letter_index] # Finds corresponding symbols in morse array\n",
    "        # Adds morse code and separator between letters to empty string\n",
    "        morse_builder += morse_code\n",
    "\n",
    "# Prints translated morse code\n",
    "print(\"\\n\"+\"Morse Code:\")\n",
    "print(morse_builder)\n",
    "\n",
    "# A \"|\" on its own is a separation between adjacent letters in a word\n",
    "# A \"PAUSE\" is a space between words"
   ]
  },
  {
   "cell_type": "markdown",
   "metadata": {},
   "source": [
    "# Morse to English"
   ]
  },
  {
   "cell_type": "code",
   "execution_count": 3,
   "metadata": {},
   "outputs": [
    {
     "name": "stdout",
     "output_type": "stream",
     "text": [
      "Enter Your Morse Code (e.g. I am tall = .. .-|-- -|.-|.-..|.-..):\n",
      "|--|-.-- |-.|.-|--|. |..|... |.-|-.-|....|..|.-..|.|...|.... |.--.|.-|..\n",
      "\n",
      "English Text:\n",
      "MY NAME IS AKHILESH PAI\n"
     ]
    }
   ],
   "source": [
    "# Morse Code input to be converted to text\n",
    "print(\"Enter Your Morse Code (e.g. I am tall = .. .-|-- -|.-|.-..|.-..):\")\n",
    "x = input()\n",
    "string = split(x) # Splitting morse code into individual characters\n",
    "\n",
    "morse_string = [] # Empty array for individual characters in morse separated by spaces and \"|\"\n",
    "\n",
    "temp_morse = \"\" # Temporarily holds morse code for individual characters\n",
    "\n",
    "for i in string:\n",
    "    if(i == \".\" or i == \"-\"): # Forms morse code for individual characters\n",
    "        temp_morse += i\n",
    "    if(i.isspace() or i == \"|\"): # Adds morse code of individual characters to empty array and separates with spaces and \"|\"\n",
    "        morse_string.append(temp_morse)\n",
    "        morse_string.append(i)\n",
    "        temp_morse = \"\"\n",
    "morse_string.append(temp_morse) # Adds final character for text string\n",
    "\n",
    "text = \"\" # Empty string for translated text\n",
    "\n",
    "# For loop for converting morse code to text\n",
    "for i in morse_string:\n",
    "    if(i.isspace()): # Adds spaces between words\n",
    "        text += \" \"\n",
    "    elif(i == \"|\" or i == \"\"): # Ignores separator between individual letters\n",
    "        continue\n",
    "    else:\n",
    "        morse_index = morse.index(i) # Gets index of morse code from morse array\n",
    "        letter = alphabet[morse_index] # Finds corresponding letter in alphabet array\n",
    "        text += letter # Adds letter to text string\n",
    "\n",
    "# Prints translated text\n",
    "print(\"\\n\"+\"English Text:\")\n",
    "print(text.upper())\n",
    "\n",
    "# A \"|\" on its own is a separation between adjacent letters in a word\n",
    "# A \" \" is a space between words"
   ]
  },
  {
   "cell_type": "markdown",
   "metadata": {},
   "source": [
    "# End"
   ]
  }
 ],
 "metadata": {
  "kernelspec": {
   "display_name": "Python 3",
   "language": "python",
   "name": "python3"
  },
  "language_info": {
   "codemirror_mode": {
    "name": "ipython",
    "version": 3
   },
   "file_extension": ".py",
   "mimetype": "text/x-python",
   "name": "python",
   "nbconvert_exporter": "python",
   "pygments_lexer": "ipython3",
   "version": "3.7.4"
  }
 },
 "nbformat": 4,
 "nbformat_minor": 2
}
